{
 "cells": [
  {
   "cell_type": "markdown",
   "metadata": {},
   "source": [
    "# Module 3: Data Structures Assignments\n",
    "## Lesson 3.1: Lists\n"
   ]
  },
  {
   "cell_type": "markdown",
   "id": "594c9489",
   "metadata": {},
   "source": [
    "### Assignment 1: Creating and Accessing Lists\n",
    "\n",
    "Create a list of the first 20 positive integers. Print the list."
   ]
  },
  {
   "cell_type": "code",
   "execution_count": 1,
   "id": "ba761b1c",
   "metadata": {},
   "outputs": [
    {
     "name": "stdout",
     "output_type": "stream",
     "text": [
      "[1, 2, 3, 4, 5, 6, 7, 8, 9, 10, 11, 12, 13, 14, 15, 16, 17, 18, 19, 20]\n"
     ]
    }
   ],
   "source": [
    "listen = [1,2,3,4,5,6,7,8,9,10,11,12,13,14,15,16,17,18,19,20]\n",
    "print(listen)"
   ]
  },
  {
   "cell_type": "markdown",
   "id": "0070bf71",
   "metadata": {},
   "source": [
    "### Assignment 2: Accessing List Elements\n",
    "\n",
    "Print the first, middle, and last elements of the list created in Assignment 1."
   ]
  },
  {
   "cell_type": "code",
   "execution_count": 2,
   "id": "4d6c3c11",
   "metadata": {},
   "outputs": [
    {
     "name": "stdout",
     "output_type": "stream",
     "text": [
      "1\n",
      "11\n",
      "20\n"
     ]
    }
   ],
   "source": [
    "print(listen[0])\n",
    "print(listen[10])\n",
    "print(listen[-1])"
   ]
  },
  {
   "cell_type": "markdown",
   "id": "49dfb348",
   "metadata": {},
   "source": [
    "### Assignment 3: List Slicing\n",
    "\n",
    "Print the first five elements, the last five elements, and the elements from index 5 to 15 of the list created in Assignment 1."
   ]
  },
  {
   "cell_type": "code",
   "execution_count": 4,
   "id": "6f45ec34",
   "metadata": {},
   "outputs": [
    {
     "name": "stdout",
     "output_type": "stream",
     "text": [
      "[1, 2, 3, 4, 5]\n",
      "[16, 17, 18, 19, 20]\n",
      "[6, 7, 8, 9, 10, 11, 12, 13, 14, 15]\n"
     ]
    }
   ],
   "source": [
    "print(listen[:5])\n",
    "print(listen[15::])\n",
    "print(listen[5:15])"
   ]
  },
  {
   "cell_type": "markdown",
   "id": "a06d37ed",
   "metadata": {},
   "source": [
    "### Assignment 4: List Comprehensions\n",
    "\n",
    "Create a new list containing the squares of the first 10 positive integers using a list comprehension. Print the new list."
   ]
  },
  {
   "cell_type": "code",
   "execution_count": 7,
   "id": "3e4cbeb1",
   "metadata": {},
   "outputs": [
    {
     "name": "stdout",
     "output_type": "stream",
     "text": [
      "[1, 4, 9, 16, 25, 36, 49, 64, 81, 100]\n"
     ]
    }
   ],
   "source": [
    "square = [(i+1)**2 for i in range(10)]\n",
    "print(square)"
   ]
  },
  {
   "cell_type": "markdown",
   "id": "a6739dc2",
   "metadata": {},
   "source": [
    "### Assignment 5: Filtering Lists\n",
    "\n",
    "Create a new list containing only the even numbers from the list created in Assignment 1 using a list comprehension. Print the new list."
   ]
  },
  {
   "cell_type": "code",
   "execution_count": 11,
   "id": "a1eb981c",
   "metadata": {},
   "outputs": [
    {
     "name": "stdout",
     "output_type": "stream",
     "text": [
      "[2, 4, 6, 8, 10, 12, 14, 16, 18, 20]\n"
     ]
    }
   ],
   "source": [
    "even = []\n",
    "for i in range(len(listen)):\n",
    "    if listen[i]%2==0:\n",
    "        even.append(listen[i])\n",
    "print(even)"
   ]
  },
  {
   "cell_type": "markdown",
   "id": "66201269",
   "metadata": {},
   "source": [
    "### Assignment 6: List Methods\n",
    "\n",
    "Create a list of random numbers and sort it in ascending and descending order. Remove the duplicates from the list and print the modified list."
   ]
  },
  {
   "cell_type": "code",
   "execution_count": 114,
   "id": "fb271d15",
   "metadata": {},
   "outputs": [
    {
     "name": "stdout",
     "output_type": "stream",
     "text": [
      "[22, 76, 35, 97, 32]\n",
      "[22, 32, 35, 76, 97]\n",
      "[97, 76, 35, 32, 22]\n"
     ]
    }
   ],
   "source": [
    "import random\n",
    "\n",
    "soap = [random.randint(1,100) for i in range(5)]\n",
    "print(soap)\n",
    "set(soap)\n",
    "soap.sort()\n",
    "print(soap)\n",
    "soap.sort(reverse = True)\n",
    "print(soap)\n"
   ]
  },
  {
   "cell_type": "markdown",
   "id": "b4499294",
   "metadata": {},
   "source": [
    "### Assignment 7: Nested Lists\n",
    "\n",
    "Create a nested list representing a 3x3 matrix and print the matrix. Access and print the element at the second row and third column."
   ]
  },
  {
   "cell_type": "code",
   "execution_count": 122,
   "id": "7561a20a",
   "metadata": {},
   "outputs": [
    {
     "name": "stdout",
     "output_type": "stream",
     "text": [
      "1 2 3 \n",
      "4 5 6 \n",
      "7 8 9 \n",
      "6\n"
     ]
    }
   ],
   "source": [
    "matrix = [[1,2,3],[4,5,6],[7,8,9]]\n",
    "for i in matrix:\n",
    "    for j in i:\n",
    "        print(j, end=\" \")\n",
    "    print()\n",
    "\n",
    "print(matrix[1][2])"
   ]
  },
  {
   "cell_type": "markdown",
   "id": "a9ce15dd",
   "metadata": {},
   "source": [
    "### Assignment 8: List of Dictionaries\n",
    "\n",
    "Create a list of dictionaries where each dictionary represents a student with keys 'name' and 'score'. Sort the list of dictionaries by the 'score' in descending order and print the sorted list."
   ]
  },
  {
   "cell_type": "code",
   "execution_count": 123,
   "id": "d558969c",
   "metadata": {},
   "outputs": [
    {
     "name": "stdout",
     "output_type": "stream",
     "text": [
      "[['Susie', 9], ['Max', 8], ['Carlton', 7], ['Jhon', 3], ['Luke', 1]]\n"
     ]
    }
   ],
   "source": [
    "name = ['Jhon', 'Max', 'Luke', 'Carlton', 'Susie']\n",
    "score = [3,8,1,7,9]\n",
    "\n",
    "look = [[i, j] for i, j in zip(name, score)]\n",
    "ordened = sorted(look, key=lambda x: x[1], reverse=True)\n",
    "print(ordened)"
   ]
  },
  {
   "cell_type": "markdown",
   "id": "5c9b5d13",
   "metadata": {},
   "source": [
    "### Assignment 9: Matrix Transposition\n",
    "\n",
    "Write a function that takes a 3x3 matrix (nested list) as input and returns its transpose. Print the original and transposed matrices."
   ]
  },
  {
   "cell_type": "code",
   "execution_count": 132,
   "id": "bf3a4981",
   "metadata": {},
   "outputs": [
    {
     "name": "stdout",
     "output_type": "stream",
     "text": [
      "Original Matrix:\n",
      "[1, 2, 3]\n",
      "[4, 5, 6]\n",
      "[7, 8, 9]\n",
      "\n",
      "Transposed Matrix:\n",
      "[1, 4, 7]\n",
      "[2, 5, 8]\n",
      "[3, 6, 9]\n"
     ]
    },
    {
     "data": {
      "text/plain": [
       "[[1, 4, 7], [2, 5, 8], [3, 6, 9]]"
      ]
     },
     "execution_count": 132,
     "metadata": {},
     "output_type": "execute_result"
    }
   ],
   "source": [
    "def trans_matrix(matrix):\n",
    "    transposed_matrix = [[0,0,0],[0,0,0],[0,0,0]]\n",
    "    for i in range(3):\n",
    "        for j in range(3):\n",
    "            transposed_matrix[j][i] = matrix[i][j]\n",
    "            \n",
    "    print(\"Original Matrix:\")\n",
    "    for row in matrix:\n",
    "        print(row)\n",
    "\n",
    "    print(\"\\nTransposed Matrix:\")\n",
    "    for row in transposed_matrix:\n",
    "        print(row)\n",
    "    return transposed_matrix\n",
    "\n",
    "my_matrix = [[1,2,3],[4,5,6],[7,8,9]]\n",
    "trans_matrix(my_matrix)\n"
   ]
  },
  {
   "cell_type": "markdown",
   "id": "ebe7c65b",
   "metadata": {},
   "source": [
    "### Assignment 10: Flattening a Nested List\n",
    "\n",
    "Write a function that takes a nested list and flattens it into a single list. Print the original and flattened lists."
   ]
  },
  {
   "cell_type": "code",
   "execution_count": 7,
   "id": "255a0a08",
   "metadata": {},
   "outputs": [
    {
     "name": "stdout",
     "output_type": "stream",
     "text": [
      "[['Simple', 'task'], ['Hard', 'Problem']]\n",
      "['Simple', 'task', 'Hard', 'Problem']\n"
     ]
    }
   ],
   "source": [
    "import itertools\n",
    "\n",
    "origin = [[\"Simple\", \"task\"],[\"Hard\", \"Problem\"]]\n",
    "flat = list(itertools.chain.from_iterable(origin))\n",
    "print(origin)\n",
    "print(flat)"
   ]
  },
  {
   "cell_type": "markdown",
   "id": "8b40946a",
   "metadata": {},
   "source": [
    "### Assignment 11: List Manipulation\n",
    "Create a list of the first 10 positive integers. Remove the elements at indices 2, 4, and 6, and insert the element '99' at index 5. Print the modified list."
   ]
  },
  {
   "cell_type": "code",
   "execution_count": 14,
   "id": "57ed9a01",
   "metadata": {},
   "outputs": [
    {
     "name": "stdout",
     "output_type": "stream",
     "text": [
      "[1, 2, 3, 4, 5, 6, 7, 8, 9, 10]\n",
      "[1, 2, 4, 6, 8, 99, 9, 10]\n"
     ]
    }
   ],
   "source": [
    "first_numbers = [1,2,3,4,5,6,7,8,9,10]\n",
    "print(first_numbers)\n",
    "del first_numbers[6]\n",
    "del first_numbers[4]\n",
    "del first_numbers[2]\n",
    "first_numbers.insert(5, 99)\n",
    "print(first_numbers)"
   ]
  },
  {
   "cell_type": "markdown",
   "id": "acc8137d",
   "metadata": {},
   "source": [
    "### Assignment 12: List Zipping\n",
    "\n",
    "Create two lists of the same length. Use the `zip` function to combine these lists into a list of tuples and print the result."
   ]
  },
  {
   "cell_type": "code",
   "execution_count": 15,
   "id": "0bbef8cf",
   "metadata": {},
   "outputs": [
    {
     "name": "stdout",
     "output_type": "stream",
     "text": [
      "[('Jonathan', 49), ('Joseph', 35), ('Jotaro', 27)]\n"
     ]
    }
   ],
   "source": [
    "name = [\"Jonathan\", \"Joseph\", \"Jotaro\"]\n",
    "age = [49, 35, 27]\n",
    "\n",
    "conbined = list(zip(name, age))\n",
    "print(conbined)"
   ]
  },
  {
   "cell_type": "markdown",
   "id": "61f6e97f",
   "metadata": {},
   "source": [
    "### Assignment 13: List Reversal\n",
    "\n",
    "Write a function that takes a list and returns a new list with the elements in reverse order. Print the original and reversed lists."
   ]
  },
  {
   "cell_type": "code",
   "execution_count": 16,
   "id": "f60f1cc0",
   "metadata": {},
   "outputs": [
    {
     "name": "stdout",
     "output_type": "stream",
     "text": [
      "[1, 2, 3, 4, 5]\n",
      "[5, 4, 3, 2, 1]\n"
     ]
    }
   ],
   "source": [
    "sam = [1,2,3,4,5]\n",
    "mas = list(sam[::-1])\n",
    "print(sam)\n",
    "print(mas)"
   ]
  },
  {
   "cell_type": "markdown",
   "id": "cb0ad1dd",
   "metadata": {},
   "source": [
    "### Assignment 14: List Rotation\n",
    "\n",
    "Write a function that rotates a list by n positions. Print the original and rotated lists."
   ]
  },
  {
   "cell_type": "code",
   "execution_count": 20,
   "id": "6549d6cb",
   "metadata": {},
   "outputs": [
    {
     "name": "stdout",
     "output_type": "stream",
     "text": [
      "[2, 3, 4, 5, 1]\n"
     ]
    }
   ],
   "source": [
    "lista = [1, 2, 3, 4, 5]\n",
    "\n",
    "k = int(input(\"Write how may positions you want to rotate the list: \"))\n",
    "rotacionada = lista[-k:] + lista[:-k]\n",
    "print(rotacionada)  "
   ]
  },
  {
   "cell_type": "markdown",
   "id": "83911f09",
   "metadata": {},
   "source": [
    "### Assignment 15: List Intersection\n",
    "\n",
    "Write a function that takes two lists and returns a new list containing only the elements that are present in both lists. Print the intersected list."
   ]
  },
  {
   "cell_type": "code",
   "execution_count": 25,
   "id": "af8c58c7",
   "metadata": {},
   "outputs": [
    {
     "name": "stdout",
     "output_type": "stream",
     "text": [
      "[1, 2, 3, 4, 5, 6]\n",
      "[4, 5, 6, 7, 8, 9]\n",
      "[4, 5, 6]\n"
     ]
    }
   ],
   "source": [
    "first = [1,2,3,4,5,6]\n",
    "last = [4,5,6,7,8,9]\n",
    "inter = list(set(first) & set(last))\n",
    "\n",
    "print(first)\n",
    "print(last)\n",
    "print(inter)"
   ]
  }
 ],
 "metadata": {
  "kernelspec": {
   "display_name": "Python 3",
   "language": "python",
   "name": "python3"
  },
  "language_info": {
   "codemirror_mode": {
    "name": "ipython",
    "version": 3
   },
   "file_extension": ".py",
   "mimetype": "text/x-python",
   "name": "python",
   "nbconvert_exporter": "python",
   "pygments_lexer": "ipython3",
   "version": "3.13.7"
  }
 },
 "nbformat": 4,
 "nbformat_minor": 5
}
