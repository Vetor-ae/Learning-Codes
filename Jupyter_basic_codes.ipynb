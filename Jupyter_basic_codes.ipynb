{
 "cells": [
  {
   "cell_type": "markdown",
   "metadata": {},
   "source": [
    "# Lesson 1.2: Python Basics\n",
    "## Topics Covered:\n",
    "- Syntax and Semantics\n",
    "- Variables and Data Types\n",
    "- Basic Operators (Arithmetic, Comparison, Logical)\n"
   ]
  },
  {
   "cell_type": "markdown",
   "metadata": {},
   "source": [
    "## 1. Syntax and Semantics\n",
    "\n",
    "**Question 1:** Write a Python program to print \"Hello, World!\"."
   ]
  },
  {
   "cell_type": "code",
   "execution_count": 2,
   "metadata": {},
   "outputs": [
    {
     "name": "stdout",
     "output_type": "stream",
     "text": [
      "Hello word\n"
     ]
    }
   ],
   "source": [
    "# Your code here\n",
    "print(\"Hello word\")"
   ]
  },
  {
   "cell_type": "markdown",
   "metadata": {},
   "source": [
    "**Question 2:** Write a Python program that takes a user input and prints it."
   ]
  },
  {
   "cell_type": "code",
   "execution_count": 3,
   "metadata": {},
   "outputs": [
    {
     "name": "stdout",
     "output_type": "stream",
     "text": [
      "This is a bucket\n"
     ]
    }
   ],
   "source": [
    "# Your code here\n",
    "user_input = input(\"Write something, then i will reapet it:\")\n",
    "print(user_input)"
   ]
  },
  {
   "cell_type": "markdown",
   "metadata": {},
   "source": [
    "**Question 3:** Write a Python program to check if a number is positive, negative, or zero."
   ]
  },
  {
   "cell_type": "code",
   "execution_count": 5,
   "metadata": {},
   "outputs": [
    {
     "name": "stdout",
     "output_type": "stream",
     "text": [
      "It is positive\n"
     ]
    }
   ],
   "source": [
    "# Your code here\n",
    "number_input = int(input(\"Give me a number: \"))\n",
    "if number_input > 0:\n",
    "    print(\"It is positive\")\n",
    "elif number_input < 0:\n",
    "    print(\"It is negative\")\n",
    "else:\n",
    "    print(\"The number is zero\")"
   ]
  },
  {
   "cell_type": "markdown",
   "metadata": {},
   "source": [
    "**Question 4:** Write a Python program to find the largest of three numbers."
   ]
  },
  {
   "cell_type": "code",
   "execution_count": 3,
   "metadata": {},
   "outputs": [
    {
     "name": "stdout",
     "output_type": "stream",
     "text": [
      "The largest number is 30\n"
     ]
    }
   ],
   "source": [
    "# Your code here\n",
    "number_1 = int(input(\"Write the first number:\"))\n",
    "number_2 = int(input(\"Write the second number:\"))\n",
    "number_3 = int(input(\"Write the third number:\"))\n",
    "if number_1 > number_2 and number_3:\n",
    "    largest = number_1\n",
    "if number_2 > number_1 and number_3:\n",
    "    largest = number_2\n",
    "if number_3 > number_1 and number_2:\n",
    "    largest = number_3\n",
    "\n",
    "print(f\"The largest number is {largest}\")"
   ]
  },
  {
   "cell_type": "markdown",
   "metadata": {},
   "source": [
    "**Question 5:** Write a Python program to calculate the factorial of a number."
   ]
  },
  {
   "cell_type": "code",
   "execution_count": 14,
   "metadata": {},
   "outputs": [
    {
     "name": "stdout",
     "output_type": "stream",
     "text": [
      "120\n"
     ]
    }
   ],
   "source": [
    "# Your code here\n",
    "n = int(input(\"Give me a number, then i will return your factorial\"))\n",
    "result = 1\n",
    "for i in range(1, n + 1):\n",
    "    result *= i\n",
    "print(result)"
   ]
  },
  {
   "cell_type": "markdown",
   "metadata": {},
   "source": [
    "## 2. Variables and Data Types\n",
    "\n",
    "**Question 6:** Create variables of different data types: integer, float, string, and boolean. Print their values and types."
   ]
  },
  {
   "cell_type": "code",
   "execution_count": 17,
   "metadata": {},
   "outputs": [
    {
     "name": "stdout",
     "output_type": "stream",
     "text": [
      "7 4.65 Sample True\n",
      "<class 'int'> <class 'float'> <class 'str'> <class 'bool'>\n"
     ]
    }
   ],
   "source": [
    "# Your code here\n",
    "integer = 7\n",
    "flow = 4.65\n",
    "stranger = \"Sample\"\n",
    "boolean = True\n",
    "\n",
    "print(integer, flow, stranger, boolean)\n",
    "print(type(integer), type(flow), type(stranger), type(boolean))"
   ]
  },
  {
   "cell_type": "markdown",
   "metadata": {},
   "source": [
    "**Question 7:** Write a Python program to swap the values of two variables."
   ]
  },
  {
   "cell_type": "code",
   "execution_count": 34,
   "metadata": {},
   "outputs": [
    {
     "name": "stdout",
     "output_type": "stream",
     "text": [
      "var_1 = 30\n",
      "var_2 = 52\n",
      "Switching...\n",
      "var_1 = 52\n",
      "var_2 = 30\n"
     ]
    }
   ],
   "source": [
    "# Your code here\n",
    "var_1 = input(\"Give the value of var_1:\")\n",
    "var_2 = input(\"Give the value of var_2:\")\n",
    "print(f\"var_1 = {var_1}\")\n",
    "print(f\"var_2 = {var_2}\")\n",
    "print(\"Switching...\")\n",
    "aux = var_1\n",
    "var_1 = var_2\n",
    "var_2 = aux\n",
    "print(f\"var_1 = {var_1}\")\n",
    "print(f\"var_2 = {var_2}\")\n"
   ]
  },
  {
   "cell_type": "markdown",
   "metadata": {},
   "source": [
    "**Question 8:** Write a Python program to convert Celsius to Fahrenheit."
   ]
  },
  {
   "cell_type": "code",
   "execution_count": 11,
   "metadata": {},
   "outputs": [
    {
     "name": "stdout",
     "output_type": "stream",
     "text": [
      "The temperture in Fahreneit is 104.00\n"
     ]
    }
   ],
   "source": [
    "# Your code here\n",
    "temp = float(input(\"What is the temperture in Celsius: \"))\n",
    "fah = (temp * (9/5)) + 32\n",
    "print(f\"The temperture in Fahreneit is {fah:.2f}\")"
   ]
  },
  {
   "cell_type": "markdown",
   "metadata": {},
   "source": [
    "**Question 9:** Write a Python program to concatenate two strings."
   ]
  },
  {
   "cell_type": "code",
   "execution_count": 12,
   "metadata": {},
   "outputs": [
    {
     "name": "stdout",
     "output_type": "stream",
     "text": [
      "Where is your motivation\n"
     ]
    }
   ],
   "source": [
    "# Your code here\n",
    "spe = input(\"First sentece: \")\n",
    "each = input(\"Second sentece: \")\n",
    "print(f\"{spe} {each}\")"
   ]
  },
  {
   "cell_type": "markdown",
   "metadata": {},
   "source": [
    "**Question 10:** Write a Python program to check if a variable is of a specific data type."
   ]
  },
  {
   "cell_type": "code",
   "execution_count": 29,
   "metadata": {},
   "outputs": [
    {
     "name": "stdout",
     "output_type": "stream",
     "text": [
      "It is not a string\n",
      "49 <class 'int'>\n"
     ]
    }
   ],
   "source": [
    "# Your code here\n",
    "import ast\n",
    "user = input(\"Write a value: \")\n",
    "try:\n",
    "    value = ast.literal_eval(user)\n",
    "except:\n",
    "    value = user\n",
    "if type(value) == str:\n",
    "    print(\"It is a string\")\n",
    "else:\n",
    "    print(\"It is not a string\")\n",
    "print(value, type(value))"
   ]
  },
  {
   "cell_type": "markdown",
   "metadata": {},
   "source": [
    "## 3. Basic Operators (Arithmetic, Comparison, Logical)\n",
    "\n",
    "**Question 11:** Write a Python program to perform arithmetic operations: addition, subtraction, multiplication, and division."
   ]
  },
  {
   "cell_type": "code",
   "execution_count": 31,
   "metadata": {},
   "outputs": [
    {
     "name": "stdout",
     "output_type": "stream",
     "text": [
      "32.0\n",
      "28.0\n",
      "60.0\n",
      "15.0\n"
     ]
    }
   ],
   "source": [
    "# Your code here\n",
    "num1 = float(input(\"Enter the first number:\"))\n",
    "num2 = float(input(\"Enter the second number:\"))\n",
    "print(num1 + num2)\n",
    "print(num1 - num2)\n",
    "print(num1 * num2)\n",
    "print(num1 / num2)"
   ]
  },
  {
   "cell_type": "markdown",
   "metadata": {},
   "source": [
    "**Question 12:** Write a Python program to demonstrate comparison operators: equal to, not equal to, greater than, less than."
   ]
  },
  {
   "cell_type": "code",
   "execution_count": 32,
   "metadata": {},
   "outputs": [
    {
     "name": "stdout",
     "output_type": "stream",
     "text": [
      "3.0 == 4.0: False\n",
      "3.0 != 4.0: True\n",
      "3.0 > 4.0 : False\n",
      "3.0 < 4.0 : True\n"
     ]
    }
   ],
   "source": [
    "# Your code here\n",
    "num1 = float(input(\"Enter the first number:\"))\n",
    "num2 = float(input(\"Enter the second number:\"))\n",
    "print(f\"{num1} == {num2}: {num1 == num2}\")\n",
    "print(f\"{num1} != {num2}: {num1 != num2}\")\n",
    "print(f\"{num1} > {num2} : {num1 > num2}\")\n",
    "print(f\"{num1} < {num2} : {num1 < num2}\")"
   ]
  },
  {
   "cell_type": "markdown",
   "metadata": {},
   "source": [
    "**Question 13:** Write a Python program to demonstrate logical operators: and, or, not."
   ]
  },
  {
   "cell_type": "code",
   "execution_count": null,
   "metadata": {},
   "outputs": [
    {
     "name": "stdout",
     "output_type": "stream",
     "text": [
      "False\n",
      "True\n",
      "False\n"
     ]
    }
   ],
   "source": [
    "# Your code here\n",
    "a = 20\n",
    "b = 2\n",
    "c = 10\n",
    "print(a < 20 and b == 2 )\n",
    "print(c > 5 or a > 40)\n",
    "print(not(c == 11 or b < 4))"
   ]
  },
  {
   "cell_type": "markdown",
   "metadata": {},
   "source": [
    "**Question 14:** Write a Python program to calculate the square of a number."
   ]
  },
  {
   "cell_type": "code",
   "execution_count": 3,
   "metadata": {},
   "outputs": [
    {
     "name": "stdout",
     "output_type": "stream",
     "text": [
      "The square of this number is 144\n"
     ]
    }
   ],
   "source": [
    "# Your code here\n",
    "numb = int(input(\"Give me a number: \"))\n",
    "square = numb * numb\n",
    "print(f\"The square of this number is {square}\")"
   ]
  },
  {
   "cell_type": "markdown",
   "metadata": {},
   "source": [
    "**Question 15:** Write a Python program to check if a number is even or odd."
   ]
  },
  {
   "cell_type": "code",
   "execution_count": 5,
   "metadata": {},
   "outputs": [
    {
     "name": "stdout",
     "output_type": "stream",
     "text": [
      "The number is even\n"
     ]
    }
   ],
   "source": [
    "# Your code here\n",
    "cell = int(input(\"Write a number:\"))\n",
    "if cell%2==0:\n",
    "    print(\"The number is even\")\n",
    "else:\n",
    "    print(\"The number is odd\")"
   ]
  },
  {
   "cell_type": "markdown",
   "metadata": {},
   "source": [
    "**Question 16:** Write a Python program to find the sum of the first n natural numbers."
   ]
  },
  {
   "cell_type": "code",
   "execution_count": 10,
   "metadata": {},
   "outputs": [
    {
     "name": "stdout",
     "output_type": "stream",
     "text": [
      "The sum of the first 6 natural numbers is 21\n"
     ]
    }
   ],
   "source": [
    "# Your code here\n",
    "jum = int(input(\"Would you tell me a number, please? :\"))\n",
    "sum = 0\n",
    "for i  in range(jum+1):\n",
    "    sum = sum + i\n",
    "print(f\"The sum of the first {jum} natural numbers is {sum}\")"
   ]
  },
  {
   "cell_type": "markdown",
   "metadata": {},
   "source": [
    "**Question 17:** Write a Python program to check if a year is a leap year."
   ]
  },
  {
   "cell_type": "code",
   "execution_count": 13,
   "metadata": {},
   "outputs": [
    {
     "name": "stdout",
     "output_type": "stream",
     "text": [
      "This year is not a leap year\n"
     ]
    }
   ],
   "source": [
    "# Your code here\n",
    "year = int(input(\"Input a year: \"))\n",
    "if year%4==0:\n",
    "    if year%100==0:\n",
    "        if year%400==0:\n",
    "            print(\"This year is a leap year\")\n",
    "        else:\n",
    "            print(\"This year is not a leap year\")\n",
    "    else:\n",
    "        print(\"This year is a leap year\")\n",
    "else:\n",
    "    print(\"This year is not a leap year\")"
   ]
  },
  {
   "cell_type": "markdown",
   "metadata": {},
   "source": [
    "**Question 18:** Write a Python program to reverse a string."
   ]
  },
  {
   "cell_type": "code",
   "execution_count": 16,
   "metadata": {},
   "outputs": [
    {
     "name": "stdout",
     "output_type": "stream",
     "text": [
      "aivossa aibas aibas euq aibas\n"
     ]
    }
   ],
   "source": [
    "# Your code here\n",
    "\n",
    "word = input(\"Write a word/sentence: \")\n",
    "inverse = word[::-1]\n",
    "print(inverse)"
   ]
  },
  {
   "cell_type": "markdown",
   "metadata": {},
   "source": [
    "**Question 19:** Write a Python program to check if a string is a palindrome."
   ]
  },
  {
   "cell_type": "code",
   "execution_count": 17,
   "metadata": {},
   "outputs": [
    {
     "name": "stdout",
     "output_type": "stream",
     "text": [
      "It is a palindrome\n"
     ]
    }
   ],
   "source": [
    "# Your code here\n",
    "palace = input(\"Should you say something? : \")\n",
    "palace = palace.lower().replace(\" \",\"\")\n",
    "if palace == palace[::-1]:\n",
    "    print(\"It is a palindrome\")\n",
    "else:\n",
    "    print(\"It is not a palindrome\")"
   ]
  },
  {
   "cell_type": "markdown",
   "metadata": {},
   "source": [
    "**Question 20:** Write a Python program to sort a list of numbers in ascending order."
   ]
  },
  {
   "cell_type": "code",
   "execution_count": 19,
   "metadata": {},
   "outputs": [
    {
     "name": "stdout",
     "output_type": "stream",
     "text": [
      "[19, 20, 28, 47, 54, 59, 67, 82, 89, 92]\n"
     ]
    }
   ],
   "source": [
    "# Your code here\n",
    "import random\n",
    "\n",
    "list = [random.randint(1, 100) for _ in range(10)]\n",
    "list.sort()\n",
    "print(list)"
   ]
  }
 ],
 "metadata": {
  "kernelspec": {
   "display_name": "Python 3",
   "language": "python",
   "name": "python3"
  },
  "language_info": {
   "codemirror_mode": {
    "name": "ipython",
    "version": 3
   },
   "file_extension": ".py",
   "mimetype": "text/x-python",
   "name": "python",
   "nbconvert_exporter": "python",
   "pygments_lexer": "ipython3",
   "version": "3.13.7"
  }
 },
 "nbformat": 4,
 "nbformat_minor": 4
}
