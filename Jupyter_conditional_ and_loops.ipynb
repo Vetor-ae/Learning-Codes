{
 "cells": [
  {
   "cell_type": "markdown",
   "metadata": {},
   "source": [
    "# Module 2: Control Flow Assignments\n",
    "## Lesson 2.1: Conditional Statements"
   ]
  },
  {
   "cell_type": "markdown",
   "id": "e1d04fea",
   "metadata": {},
   "source": [
    "### Assignment 1: Simple if Statement\n",
    "\n",
    "Write a program that asks the user to input a number and prints whether the number is positive."
   ]
  },
  {
   "cell_type": "code",
   "execution_count": null,
   "id": "51be69dc",
   "metadata": {},
   "outputs": [
    {
     "name": "stdout",
     "output_type": "stream",
     "text": [
      "This number isn't positive\n"
     ]
    }
   ],
   "source": [
    "user_input = int(input(\"Enter a number: \"))\n",
    "if user_input > 0:\n",
    "    print(\"This number is positive\")"
   ]
  },
  {
   "cell_type": "markdown",
   "id": "1b7769df",
   "metadata": {},
   "source": [
    "### Assignment 2: if-else Statement\n",
    "\n",
    "Write a program that asks the user to input a number and prints whether the number is positive or negative."
   ]
  },
  {
   "cell_type": "code",
   "execution_count": null,
   "id": "a44fcee1",
   "metadata": {},
   "outputs": [],
   "source": [
    "number = int(input(\"Give me a number: \"))\n",
    "if number > 0:\n",
    "    print(\"The number is positive\")\n",
    "else:\n",
    "    print(\"The number is negative\")"
   ]
  },
  {
   "cell_type": "markdown",
   "id": "a2120868",
   "metadata": {},
   "source": [
    "### Assignment 3: if-elif-else Statement\n",
    "\n",
    "Write a program that asks the user to input a number and prints whether the number is positive, negative, or zero."
   ]
  },
  {
   "cell_type": "code",
   "execution_count": 5,
   "id": "4549847c",
   "metadata": {},
   "outputs": [
    {
     "name": "stdout",
     "output_type": "stream",
     "text": [
      "It's negative\n"
     ]
    }
   ],
   "source": [
    "wesker = int(input(\"Write a number: \"))\n",
    "if wesker > 0:\n",
    "    print(\"It's positive\")\n",
    "elif wesker < 0:\n",
    "    print(\"It's negative\")\n",
    "else:\n",
    "    print(\"It's zero\")"
   ]
  },
  {
   "cell_type": "markdown",
   "id": "49702a5a",
   "metadata": {},
   "source": [
    "### Assignment 4: Nested if Statement\n",
    "\n",
    "Write a program that asks the user to input a number and prints whether the number is positive and even, positive and odd, or negative."
   ]
  },
  {
   "cell_type": "code",
   "execution_count": 8,
   "id": "79845743",
   "metadata": {},
   "outputs": [
    {
     "name": "stdout",
     "output_type": "stream",
     "text": [
      "The number is negative\n"
     ]
    }
   ],
   "source": [
    "caracter = int(input(\"Give me a number:\"))\n",
    "if caracter > 0:\n",
    "    if caracter%2==0:\n",
    "        print(\"The number is positive and even\")\n",
    "    else:\n",
    "        print(\"The number is positive and odd\")\n",
    "else:\n",
    "    print(\"The number is negative\")"
   ]
  },
  {
   "cell_type": "markdown",
   "id": "c3ba9ad6",
   "metadata": {},
   "source": [
    "## Lesson 2.2: Loops\n",
    "### Assignment 5: for Loop\n",
    "\n",
    "Write a program that prints all the numbers from 1 to 10 using a for loop."
   ]
  },
  {
   "cell_type": "code",
   "execution_count": 9,
   "id": "803f716c",
   "metadata": {},
   "outputs": [
    {
     "name": "stdout",
     "output_type": "stream",
     "text": [
      "1\n",
      "2\n",
      "3\n",
      "4\n",
      "5\n",
      "6\n",
      "7\n",
      "8\n",
      "9\n",
      "10\n"
     ]
    }
   ],
   "source": [
    "for i in range(10):\n",
    "    print(i+1)"
   ]
  },
  {
   "cell_type": "markdown",
   "id": "1b146d09",
   "metadata": {},
   "source": [
    "### Assignment 6: while Loop\n",
    "\n",
    "Write a program that prints all the numbers from 1 to 10 using a while loop."
   ]
  },
  {
   "cell_type": "code",
   "execution_count": 27,
   "id": "699990bc",
   "metadata": {},
   "outputs": [
    {
     "name": "stdout",
     "output_type": "stream",
     "text": [
      "1\n",
      "2\n",
      "3\n",
      "4\n",
      "5\n",
      "6\n",
      "7\n",
      "8\n",
      "9\n",
      "10\n"
     ]
    }
   ],
   "source": [
    "i = 0\n",
    "while i < 10:\n",
    "    print(i + 1)\n",
    "    i += 1 "
   ]
  },
  {
   "cell_type": "markdown",
   "id": "3e5f3a5e",
   "metadata": {},
   "source": [
    "### Assignment 7: Nested Loops\n",
    "\n",
    "Write a program that prints a 5x5 grid of asterisks (*) using nested loops."
   ]
  },
  {
   "cell_type": "code",
   "execution_count": 30,
   "id": "44bc67dc",
   "metadata": {},
   "outputs": [
    {
     "name": "stdout",
     "output_type": "stream",
     "text": [
      "* * * * * \n",
      "* * * * * \n",
      "* * * * * \n",
      "* * * * * \n",
      "* * * * * \n"
     ]
    }
   ],
   "source": [
    "size = 5\n",
    "for row in range(size):\n",
    "    for colunm in range(size):\n",
    "        print(\"*\", end=\" \")\n",
    "    print()"
   ]
  },
  {
   "cell_type": "markdown",
   "id": "e88b976c",
   "metadata": {},
   "source": [
    "### Assignment 8: break Statement\n",
    "\n",
    "Write a program that asks the user to input numbers until they input 0. The program should print the sum of all the input numbers."
   ]
  },
  {
   "cell_type": "code",
   "execution_count": 35,
   "id": "deffd774",
   "metadata": {},
   "outputs": [
    {
     "name": "stdout",
     "output_type": "stream",
     "text": [
      "360\n"
     ]
    }
   ],
   "source": [
    "sum = 0\n",
    "while True:\n",
    "    try:\n",
    "        number = int(input(\"Write a number: \"))\n",
    "        if number == 0:\n",
    "            break\n",
    "        sum += number\n",
    "    except ValueError:\n",
    "        print(\"Write a INTEGER number: \")\n",
    "print(sum)"
   ]
  },
  {
   "cell_type": "markdown",
   "id": "9996a47e",
   "metadata": {},
   "source": [
    "### Assignment 9: continue Statement\n",
    "\n",
    "Write a program that prints all the numbers from 1 to 10 except 5 using a for loop and continue statement."
   ]
  },
  {
   "cell_type": "code",
   "execution_count": 39,
   "id": "83595f84",
   "metadata": {},
   "outputs": [
    {
     "name": "stdout",
     "output_type": "stream",
     "text": [
      "1\n",
      "2\n",
      "3\n",
      "4\n",
      "6\n",
      "7\n",
      "8\n",
      "9\n",
      "10\n"
     ]
    }
   ],
   "source": [
    "for i in range(10):\n",
    "    if i+1 == 5:\n",
    "        continue\n",
    "    print(i+1)"
   ]
  },
  {
   "cell_type": "markdown",
   "id": "533293d5",
   "metadata": {},
   "source": [
    "### Assignment 10: pass Statement\n",
    "\n",
    "Write a program that defines an empty function using the pass statement."
   ]
  },
  {
   "cell_type": "code",
   "execution_count": 40,
   "id": "e537f80b",
   "metadata": {},
   "outputs": [
    {
     "name": "stdout",
     "output_type": "stream",
     "text": [
      "The function has been called\n"
     ]
    }
   ],
   "source": [
    "def empty_funtion():\n",
    "    pass\n",
    "\n",
    "empty_funtion()\n",
    "\n",
    "print(\"The function has been called\")"
   ]
  },
  {
   "cell_type": "markdown",
   "id": "c2e84b47",
   "metadata": {},
   "source": [
    "### Assignment 11: Combining Loops and Conditionals\n",
    "\n",
    "Write a program that asks the user to input a number and prints all the even numbers from 1 to that number using a for loop."
   ]
  },
  {
   "cell_type": "code",
   "execution_count": 42,
   "id": "18c38f4e",
   "metadata": {},
   "outputs": [
    {
     "name": "stdout",
     "output_type": "stream",
     "text": [
      "0\n",
      "2\n",
      "4\n",
      "6\n",
      "8\n",
      "10\n",
      "12\n",
      "14\n",
      "16\n",
      "18\n"
     ]
    }
   ],
   "source": [
    "number = int(input(\"Would you give me a number? :\"))\n",
    "for i in range(number):\n",
    "    if i%2==0:\n",
    "        print(i)"
   ]
  },
  {
   "cell_type": "markdown",
   "id": "bd989373",
   "metadata": {},
   "source": [
    "### Assignment 12: Factorial Calculation\n",
    "\n",
    "Write a program that calculates the factorial of a number input by the user using a while loop."
   ]
  },
  {
   "cell_type": "code",
   "execution_count": 47,
   "id": "aad6736e",
   "metadata": {},
   "outputs": [
    {
     "name": "stdout",
     "output_type": "stream",
     "text": [
      "720\n"
     ]
    }
   ],
   "source": [
    "num = int(input(\"Write a number: \"))\n",
    "i=1\n",
    "factorial = 1\n",
    "while i <= num:\n",
    "    factorial *=i\n",
    "    i += 1\n",
    "print(factorial)"
   ]
  },
  {
   "cell_type": "markdown",
   "id": "c4e08443",
   "metadata": {},
   "source": [
    "### Assignment 13: Sum of Digits\n",
    "\n",
    "Write a program that calculates the sum of the digits of a number input by the user using a while loop."
   ]
  },
  {
   "cell_type": "code",
   "execution_count": 51,
   "id": "47bffbab",
   "metadata": {},
   "outputs": [
    {
     "name": "stdout",
     "output_type": "stream",
     "text": [
      "10\n"
     ]
    }
   ],
   "source": [
    "number = int(input(\"Write a 2 or more digits number: \"))\n",
    "while number > 0:\n",
    "    r = number % 10\n",
    "    sum += r\n",
    "    number //= 10\n",
    "print(sum)"
   ]
  },
  {
   "cell_type": "markdown",
   "id": "d8994a25",
   "metadata": {},
   "source": [
    "### Assignment 14: Prime Number Check\n",
    "\n",
    "Write a program that checks if a number input by the user is a prime number using a for loop."
   ]
  },
  {
   "cell_type": "code",
   "execution_count": 62,
   "id": "eed294af",
   "metadata": {},
   "outputs": [
    {
     "name": "stdout",
     "output_type": "stream",
     "text": [
      "The number is prime\n"
     ]
    }
   ],
   "source": [
    "prime = int(input('Number, please: '))\n",
    "sor = True\n",
    "for i in range(2, prime, 1):\n",
    "    if prime % i == 0:\n",
    "        sor = False\n",
    "        break\n",
    "if sor == True:\n",
    "    print(\"The number is prime\")\n",
    "elif sor== False:\n",
    "    print(\"The number isn't prime\")"
   ]
  },
  {
   "cell_type": "markdown",
   "id": "2979fb95",
   "metadata": {},
   "source": [
    "### Assignment 15: Fibonacci Sequence\n",
    "\n",
    "Write a program that prints the first n Fibonacci numbers, where n is input by the user."
   ]
  },
  {
   "cell_type": "code",
   "execution_count": null,
   "id": "462fde5c",
   "metadata": {},
   "outputs": [
    {
     "name": "stdout",
     "output_type": "stream",
     "text": [
      "1 2 3 5 8 "
     ]
    }
   ],
   "source": [
    "limit = int(input(\"I will print the first Fibonacci numbers that you limits: \"))\n",
    "a = 0\n",
    "b = 1\n",
    "for i in range(limit):\n",
    "    result = a + b\n",
    "    print(result, end=\" \")\n",
    "    a = b\n",
    "    b = result"
   ]
  }
 ],
 "metadata": {
  "kernelspec": {
   "display_name": "Python 3",
   "language": "python",
   "name": "python3"
  },
  "language_info": {
   "codemirror_mode": {
    "name": "ipython",
    "version": 3
   },
   "file_extension": ".py",
   "mimetype": "text/x-python",
   "name": "python",
   "nbconvert_exporter": "python",
   "pygments_lexer": "ipython3",
   "version": "3.13.7"
  }
 },
 "nbformat": 4,
 "nbformat_minor": 5
}
